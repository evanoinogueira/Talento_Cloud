{
  "nbformat": 4,
  "nbformat_minor": 0,
  "metadata": {
    "colab": {
      "provenance": [],
      "authorship_tag": "ABX9TyPOJp5Z6IUWxlXZzE8sAJV0",
      "include_colab_link": true
    },
    "kernelspec": {
      "name": "python3",
      "display_name": "Python 3"
    },
    "language_info": {
      "name": "python"
    }
  },
  "cells": [
    {
      "cell_type": "markdown",
      "metadata": {
        "id": "view-in-github",
        "colab_type": "text"
      },
      "source": [
        "<a href=\"https://colab.research.google.com/github/evanoinogueira/Talento_Cloud/blob/main/Comandos_de_entrada_exce%C3%A7%C3%B5es.ipynb\" target=\"_parent\"><img src=\"https://colab.research.google.com/assets/colab-badge.svg\" alt=\"Open In Colab\"/></a>"
      ]
    },
    {
      "cell_type": "code",
      "execution_count": 31,
      "metadata": {
        "colab": {
          "base_uri": "https://localhost:8080/"
        },
        "id": "szUtdhpFqOPK",
        "outputId": "b7f40bae-c7ec-4bbc-cc84-8cf55edf8e1c"
      },
      "outputs": [
        {
          "output_type": "stream",
          "name": "stdout",
          "text": [
            "Escreva um número menor ou igual a 100\n",
            "asd\n",
            "O valor inserido deve ser um número inteiro!\n",
            "12\n",
            "Boa você escolheu o número: 12\n"
          ]
        }
      ],
      "source": [
        "def mostrar_numero():\n",
        "  numero_valido = False\n",
        "\n",
        "  print('Escreva um número menor ou igual a 100')\n",
        "\n",
        "  while(numero_valido == False):\n",
        "    try:\n",
        "\n",
        "      num = int(input())\n",
        "      if (num > 100):\n",
        "        print('O número deve ser menor ou igual a 100')\n",
        "      else:\n",
        "        print('Boa você escolheu o número: '  +  str(num))\n",
        "        numero_valido = True\n",
        "    except:\n",
        "      print('O valor inserido deve ser um número inteiro!')\n",
        "\n",
        "\n",
        "mostrar_numero()"
      ]
    }
  ]
}